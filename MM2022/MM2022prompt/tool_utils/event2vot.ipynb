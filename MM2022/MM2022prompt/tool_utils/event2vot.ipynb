{
 "cells": [
  {
   "cell_type": "code",
   "execution_count": 7,
   "metadata": {},
   "outputs": [],
   "source": [
    "import os\n",
    "dataset = '/disk2/tracking/RGB_T234'\n",
    "sequence = []\n",
    "try:\n",
    "    with open(os.path.join(dataset, 'list.txt'), 'r') as f:\n",
    "        value = f.readlines()\n",
    "    for seq in value:\n",
    "        sequence.append(seq.split(\"\\n\")[0])\n",
    "    sequence.sort()\n",
    "except:    \n",
    "    sequence =  os.listdir(dataset)\n",
    "    sequence.sort()\n",
    "    with open(os.path.join(dataset, \"list.txt\"), 'w') as f:\n",
    "        for seq in sequence:\n",
    "            f.writelines(seq + \"\\n\")"
   ]
  },
  {
   "cell_type": "code",
   "execution_count": 13,
   "metadata": {},
   "outputs": [],
   "source": [
    "for index,seq in enumerate(sequence):\n",
    "    visimg = os.path.join(dataset, seq, \"infrared\")\n",
    "    colorimage = os.path.join(dataset, seq,\"visible\")\n",
    "    # os.rename(visimg, colorimage) \n",
    "    imageslist = os.listdir(colorimage)\n",
    "    imageslist.sort()\n",
    "    infraredlist = os.listdir(visimg)\n",
    "    infraredlist.sort()\n",
    "    assert len(imageslist) == len(infraredlist)\n",
    "    imgsuffix = imageslist[0].split(\".\")[1]\n",
    "    infraredsuffix = infraredlist[0].split(\".\")[1]\n",
    "    #  format color image\n",
    "    for i in range(len(imageslist)):\n",
    "        colorname = os.path.join(colorimage, imageslist[i])\n",
    "        sortname = os.path.join(colorimage, \"%08d.%s\" % (i+1, imgsuffix))\n",
    "        os.rename(colorname, sortname)\n",
    "    # format infrared image\n",
    "    for i in range(len(infraredlist)):\n",
    "        visiblename = os.path.join(visimg, infraredlist[i])\n",
    "        sortname = os.path.join(visimg, \"%08d.%s\" % (i+1, infraredsuffix))\n",
    "        os.rename(visiblename, sortname)\n",
    "    # craete sequence\n",
    "    with open(os.path.join(dataset, seq, \"sequence\"), 'w') as f:\n",
    "        line1 = 'channels.color=visible/%08d.' + imgsuffix\n",
    "        line2 = \"channels.depth=infrared/%08d.\" + infraredsuffix                                                                                                                                                                          \n",
    "        line3 = \"format=default\"                                                                                                                                                                          \n",
    "        line4 = \"fps=30\"                                                                                                                                                                            \n",
    "        line5 = \"name={}\".format(seq)\n",
    "        f.writelines(line1 + '\\n')\n",
    "        f.writelines(line2 + '\\n')\n",
    "        f.writelines(line3 + '\\n')\n",
    "        f.writelines(line4 + '\\n')\n",
    "        f.writelines(line5 + '\\n')\n"
   ]
  },
  {
   "cell_type": "code",
   "execution_count": 12,
   "metadata": {},
   "outputs": [],
   "source": [
    "for index,seq in enumerate(sequence):\n",
    "    visfile = os.path.join(dataset, seq, \"init.txt\")\n",
    "    groundtruth = os.path.join(dataset, seq, \"groundtruth.txt\")\n",
    "    # os.rename(visfile, groundtruth)\n",
    "    with open(groundtruth, 'r') as f:\n",
    "        gt_length = len(f.readlines())\n",
    "    channel = os.path.join(dataset,seq,'visible')\n",
    "    frame = len(os.listdir(channel))\n",
    "    try:\n",
    "        assert frame == gt_length\n",
    "    except:\n",
    "        print(\"seq: {}\".format(seq))"
   ]
  },
  {
   "cell_type": "code",
   "execution_count": null,
   "metadata": {},
   "outputs": [],
   "source": []
  }
 ],
 "metadata": {
  "interpreter": {
   "hash": "03e3f5897ddaa3d0989a99627c986e61bf95a4692c83756a0bb0a4ba7346be94"
  },
  "kernelspec": {
   "display_name": "Python 3.9.11 ('nb_conda')",
   "language": "python",
   "name": "python3"
  },
  "language_info": {
   "codemirror_mode": {
    "name": "ipython",
    "version": 3
   },
   "file_extension": ".py",
   "mimetype": "text/x-python",
   "name": "python",
   "nbconvert_exporter": "python",
   "pygments_lexer": "ipython3",
   "version": "3.9.11"
  },
  "orig_nbformat": 4
 },
 "nbformat": 4,
 "nbformat_minor": 2
}
