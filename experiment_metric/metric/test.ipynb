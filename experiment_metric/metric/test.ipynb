{
 "cells": [
  {
   "cell_type": "code",
   "execution_count": 20,
   "metadata": {},
   "outputs": [
    {
     "name": "stdout",
     "output_type": "stream",
     "text": [
      "Trackers: dimp_dimp18                    success50: 77.81        AO: 66.57\n"
     ]
    }
   ],
   "source": [
    "%run drop_performance.py"
   ]
  },
  {
   "cell_type": "code",
   "execution_count": 21,
   "metadata": {},
   "outputs": [
    {
     "data": {
      "text/plain": [
       "['Trackers: dimp_dimp18                    success50: 77.81        AO: 66.57',\n",
       " 'Trackers: dimp_dimp50                    success50: 81.33        AO: 69.64',\n",
       " 'Trackers: dimp_prdimp18                  success50: 81.42        AO: 70.48',\n",
       " 'Trackers: dimp_prdimp50                  success50: 81.65        AO: 70.73',\n",
       " 'Trackers: keep_track_default             success50: 85.38        AO: 74.54',\n",
       " 'Trackers: keep_track_default_fast        success50: 86.75        AO: 75.29',\n",
       " 'Trackers: kys_default                    success50: 81.93        AO: 69.84',\n",
       " 'Trackers: mixformer1k                    success50: 89.27        AO: 79.51',\n",
       " 'Trackers: mixformer1k-got                success50: 85.56        AO: 76.78',\n",
       " 'Trackers: mixformer22k                   success50: 92.12        AO: 81.89',\n",
       " 'Trackers: mixformer22k-got               success50: 89.00        AO: 79.38',\n",
       " 'Trackers: mixformerL                     success50: 90.92        AO: 81.28',\n",
       " 'Trackers: tomp_tomp101                   success50: 88.68        AO: 77.59',\n",
       " 'Trackers: tomp_tomp50                    success50: 89.90        AO: 78.10']"
      ]
     },
     "execution_count": 21,
     "metadata": {},
     "output_type": "execute_result"
    }
   ],
   "source": [
    "corp_dataset"
   ]
  },
  {
   "cell_type": "code",
   "execution_count": 22,
   "metadata": {},
   "outputs": [
    {
     "data": {
      "text/plain": [
       "['Trackers: dimp_dimp18                    success50: 86.10        AO: 73.00',\n",
       " 'Trackers: dimp_dimp50                    success50: 88.91        AO: 75.38',\n",
       " 'Trackers: dimp_prdimp18                  success50: 87.52        AO: 75.81',\n",
       " 'Trackers: keep_track_default             success50: 92.22        AO: 80.78',\n",
       " 'Trackers: dimp_prdimp50                  success50: 89.41        AO: 77.73',\n",
       " 'Trackers: keep_track_default_fast        success50: 92.05        AO: 80.52',\n",
       " 'Trackers: kys_default                    success50: 89.15        AO: 75.62',\n",
       " 'Trackers: mixformer1k                    success50: 95.39        AO: 86.10',\n",
       " 'Trackers: mixformer1k-got                success50: 94.69        AO: 85.66',\n",
       " 'Trackers: mixformer22k                   success50: 94.56        AO: 84.95',\n",
       " 'Trackers: mixformer22k-got               success50: 94.81        AO: 85.21',\n",
       " 'Trackers: mixformerL                     success50: 94.83        AO: 85.84',\n",
       " 'Trackers: tomp_tomp101                   success50: 93.64        AO: 83.01',\n",
       " 'Trackers: tomp_tomp50                    success50: 94.71        AO: 83.87']"
      ]
     },
     "execution_count": 22,
     "metadata": {},
     "output_type": "execute_result"
    }
   ],
   "source": [
    "clean_dataset"
   ]
  },
  {
   "cell_type": "code",
   "execution_count": 23,
   "metadata": {},
   "outputs": [
    {
     "data": {
      "text/plain": [
       "'dimp_dimp18'"
      ]
     },
     "execution_count": 23,
     "metadata": {},
     "output_type": "execute_result"
    }
   ],
   "source": [
    "clean_dataset[0][52:57] # sr\n",
    "clean_dataset[0][69:74] # ao\n",
    "clean_dataset[0][10:40].split(\" \")[0] # tracker name\n"
   ]
  },
  {
   "cell_type": "code",
   "execution_count": 24,
   "metadata": {},
   "outputs": [
    {
     "name": "stdout",
     "output_type": "stream",
     "text": [
      "dimp_dimp18                    & 86.10   & 73.00   & 77.81(9.63  ) & 66.57(8.81  )\n",
      "dimp_dimp50                    & 88.91   & 75.38   & 81.33(8.53  ) & 69.64(7.61  )\n",
      "dimp_prdimp18                  & 87.52   & 75.81   & 81.42(6.97  ) & 70.48(7.03  )\n",
      "keep_track_default             & 92.22   & 80.78   & 81.65(11.46 ) & 70.73(12.44 )\n",
      "dimp_prdimp50                  & 89.41   & 77.73   & 85.38(4.51  ) & 74.54(4.10  )\n",
      "keep_track_default_fast        & 92.05   & 80.52   & 86.75(5.76  ) & 75.29(6.50  )\n",
      "kys_default                    & 89.15   & 75.62   & 81.93(8.10  ) & 69.84(7.64  )\n",
      "mixformer1k                    & 95.39   & 86.10   & 89.27(6.42  ) & 79.51(7.65  )\n",
      "mixformer1k-got                & 94.69   & 85.66   & 85.56(9.64  ) & 76.78(10.37 )\n",
      "mixformer22k                   & 94.56   & 84.95   & 92.12(2.58  ) & 81.89(3.60  )\n",
      "mixformer22k-got               & 94.81   & 85.21   & 89.00(6.13  ) & 79.38(6.84  )\n",
      "mixformerL                     & 94.83   & 85.84   & 90.92(4.12  ) & 81.28(5.31  )\n",
      "tomp_tomp101                   & 93.64   & 83.01   & 88.68(5.30  ) & 77.59(6.53  )\n",
      "tomp_tomp50                    & 94.71   & 83.87   & 89.90(5.08  ) & 78.10(6.88  )\n"
     ]
    }
   ],
   "source": [
    "for i in range(len(clean_dataset)):\n",
    "    clean_sr = float(clean_dataset[i][52:57]) \n",
    "    clean_ao = float(clean_dataset[i][69:74]) \n",
    "    corp_sr = float(corp_dataset[i][52:57])\n",
    "    corp_ao = float(corp_dataset[i][69:74]) \n",
    "    trackername = clean_dataset[i][10:40].split(\" \")[0] # tracker name\n",
    "\n",
    "    drop_sr = (clean_sr - corp_sr) / clean_sr * 100\n",
    "    drop_ao = (clean_ao - corp_ao) / clean_ao * 100\n",
    "    print('{:<30} & {:<7.2f} & {:<7.2f} & {:.2f}({:<6.2f}) & {:.2f}({:<6.2f})'.format(trackername, clean_sr, clean_ao, corp_sr, drop_sr, corp_ao, drop_ao))\n"
   ]
  }
 ],
 "metadata": {
  "kernelspec": {
   "display_name": "Python 3.8.13 ('pytracking')",
   "language": "python",
   "name": "python3"
  },
  "language_info": {
   "codemirror_mode": {
    "name": "ipython",
    "version": 3
   },
   "file_extension": ".py",
   "mimetype": "text/x-python",
   "name": "python",
   "nbconvert_exporter": "python",
   "pygments_lexer": "ipython3",
   "version": "3.8.13"
  },
  "orig_nbformat": 4,
  "vscode": {
   "interpreter": {
    "hash": "0397a5c77d7ee93158e956f225d9bbcf98e498c99f97427e001b3023d92c50d1"
   }
  }
 },
 "nbformat": 4,
 "nbformat_minor": 2
}
