{
 "cells": [
  {
   "cell_type": "code",
   "execution_count": 1,
   "metadata": {},
   "outputs": [],
   "source": [
    "import os\n",
    "dataset = '/home/CVPR2023/Corruption-Invariant-Tracking-Benchmark/workspace/lasher/sequences/'\n",
    "sequence = []\n",
    "try:\n",
    "    with open(os.path.join(dataset, 'list.txt'), 'r') as f:\n",
    "        value = f.readlines()\n",
    "    for seq in value:\n",
    "        sequence.append(seq.split(\"\\n\")[0])\n",
    "    sequence.sort()\n",
    "except:    \n",
    "    sequence =  os.listdir(dataset)\n",
    "    sequence.sort()\n",
    "    with open(os.path.join(dataset, \"list.txt\"), 'w') as f:\n",
    "        for seq in sequence:\n",
    "            f.writelines(seq + \"\\n\")"
   ]
  },
  {
   "cell_type": "code",
   "execution_count": 2,
   "metadata": {},
   "outputs": [],
   "source": [
    "\n",
    "for index,seq in enumerate(sequence):\n",
    "    visimg = os.path.join(dataset, seq, \"infrared\")\n",
    "    colorimage = os.path.join(dataset, seq,\"visible\")\n",
    "    # os.rename(visimg, colorimage) \n",
    "    imageslist = os.listdir(colorimage)\n",
    "    imageslist.sort()\n",
    "    infraredlist = os.listdir(visimg)\n",
    "    infraredlist.sort()\n",
    "    assert len(imageslist) == len(infraredlist)\n",
    "    imgsuffix = imageslist[0].split(\".\")[1]\n",
    "    infraredsuffix = infraredlist[0].split(\".\")[1] \n",
    "    for i in range(len(imageslist)):\n",
    "        colorname = os.path.join(colorimage, imageslist[i])\n",
    "        sortname = os.path.join(colorimage, \"%08d.%s\" % (i+1, imgsuffix))\n",
    "        os.rename(colorname, sortname)\n",
    "\n",
    "    for i in range(len(infraredlist)):\n",
    "        visiblename = os.path.join(visimg, infraredlist[i])\n",
    "        sortname = os.path.join(visimg, \"%08d.%s\" % (i+1, infraredsuffix))\n",
    "        os.rename(visiblename, sortname)\n",
    "\n",
    "    with open(os.path.join(dataset, seq, \"sequence\"), 'w') as f:\n",
    "        line1 = 'channels.color=visible/%08d.' + imgsuffix\n",
    "        line2 = \"channels.depth=infrared/%08d.\" + infraredsuffix                                                                                                                                                                          \n",
    "        line3 = \"format=default\"                                                                                                                                                                          \n",
    "        line4 = \"fps=30\"                                                                                                                                                                            \n",
    "        line5 = \"name={}\".format(seq)\n",
    "        f.writelines(line1 + '\\n')\n",
    "        f.writelines(line2 + '\\n')\n",
    "        f.writelines(line3 + '\\n')\n",
    "        f.writelines(line4 + '\\n')\n",
    "        f.writelines(line5 + '\\n')\n"
   ]
  },
  {
   "cell_type": "code",
   "execution_count": 36,
   "metadata": {},
   "outputs": [],
   "source": [
    "# import shutil\n",
    "# for index,seq in enumerate(sequence):\n",
    "#     visfile = os.path.join(dataset, \"../gtfile/\", \"{}.txt\".format(seq))\n",
    "#     groundtruth = os.path.join(dataset, seq, \"groundtruth.txt\")\n",
    "#     shutil.copy2(groundtruth,visfile)\n"
   ]
  },
  {
   "cell_type": "code",
   "execution_count": 4,
   "metadata": {},
   "outputs": [
    {
     "ename": "FileNotFoundError",
     "evalue": "[Errno 2] No such file or directory: '/home/CVPR2023/Corruption-Invariant-Tracking-Benchmark/workspace/lasher/sequences/advancedredcup/init.txt' -> '/home/CVPR2023/Corruption-Invariant-Tracking-Benchmark/workspace/lasher/sequences/advancedredcup/groundtruth.txt'",
     "output_type": "error",
     "traceback": [
      "\u001b[0;31m---------------------------------------------------------------------------\u001b[0m",
      "\u001b[0;31mFileNotFoundError\u001b[0m                         Traceback (most recent call last)",
      "\u001b[1;32m/home/CVPR2023/Corruption-Invariant-Tracking-Benchmark/tool_utils/event2vot.ipynb Cell 4\u001b[0m in \u001b[0;36m<cell line: 1>\u001b[0;34m()\u001b[0m\n\u001b[1;32m      <a href='vscode-notebook-cell://ssh-remote%2Bcvpr2023_tracker_16g/home/CVPR2023/Corruption-Invariant-Tracking-Benchmark/tool_utils/event2vot.ipynb#W3sdnNjb2RlLXJlbW90ZQ%3D%3D?line=1'>2</a>\u001b[0m visfile \u001b[39m=\u001b[39m os\u001b[39m.\u001b[39mpath\u001b[39m.\u001b[39mjoin(dataset, seq, \u001b[39m\"\u001b[39m\u001b[39minit.txt\u001b[39m\u001b[39m\"\u001b[39m)\n\u001b[1;32m      <a href='vscode-notebook-cell://ssh-remote%2Bcvpr2023_tracker_16g/home/CVPR2023/Corruption-Invariant-Tracking-Benchmark/tool_utils/event2vot.ipynb#W3sdnNjb2RlLXJlbW90ZQ%3D%3D?line=2'>3</a>\u001b[0m groundtruth \u001b[39m=\u001b[39m os\u001b[39m.\u001b[39mpath\u001b[39m.\u001b[39mjoin(dataset, seq, \u001b[39m\"\u001b[39m\u001b[39mgroundtruth.txt\u001b[39m\u001b[39m\"\u001b[39m)\n\u001b[0;32m----> <a href='vscode-notebook-cell://ssh-remote%2Bcvpr2023_tracker_16g/home/CVPR2023/Corruption-Invariant-Tracking-Benchmark/tool_utils/event2vot.ipynb#W3sdnNjb2RlLXJlbW90ZQ%3D%3D?line=3'>4</a>\u001b[0m os\u001b[39m.\u001b[39;49mrename(visfile, groundtruth)\n\u001b[1;32m      <a href='vscode-notebook-cell://ssh-remote%2Bcvpr2023_tracker_16g/home/CVPR2023/Corruption-Invariant-Tracking-Benchmark/tool_utils/event2vot.ipynb#W3sdnNjb2RlLXJlbW90ZQ%3D%3D?line=4'>5</a>\u001b[0m \u001b[39mwith\u001b[39;00m \u001b[39mopen\u001b[39m(groundtruth, \u001b[39m'\u001b[39m\u001b[39mr\u001b[39m\u001b[39m'\u001b[39m) \u001b[39mas\u001b[39;00m f:\n\u001b[1;32m      <a href='vscode-notebook-cell://ssh-remote%2Bcvpr2023_tracker_16g/home/CVPR2023/Corruption-Invariant-Tracking-Benchmark/tool_utils/event2vot.ipynb#W3sdnNjb2RlLXJlbW90ZQ%3D%3D?line=5'>6</a>\u001b[0m     gt_length \u001b[39m=\u001b[39m \u001b[39mlen\u001b[39m(f\u001b[39m.\u001b[39mreadlines())\n",
      "\u001b[0;31mFileNotFoundError\u001b[0m: [Errno 2] No such file or directory: '/home/CVPR2023/Corruption-Invariant-Tracking-Benchmark/workspace/lasher/sequences/advancedredcup/init.txt' -> '/home/CVPR2023/Corruption-Invariant-Tracking-Benchmark/workspace/lasher/sequences/advancedredcup/groundtruth.txt'"
     ]
    }
   ],
   "source": [
    "for index,seq in enumerate(sequence):\n",
    "    visfile = os.path.join(dataset, seq, \"init.txt\")\n",
    "    groundtruth = os.path.join(dataset, seq, \"groundtruth.txt\")\n",
    "    os.rename(visfile, groundtruth)\n",
    "    with open(groundtruth, 'r') as f:\n",
    "        gt_length = len(f.readlines())\n",
    "    channel = os.path.join(dataset,seq, 'visible')\n",
    "    frame = len(os.listdir(channel))\n",
    "    try:\n",
    "        assert frame == gt_length\n",
    "    except:\n",
    "        print(\"seq: {}\".format(seq))"
   ]
  },
  {
   "cell_type": "code",
   "execution_count": 40,
   "metadata": {},
   "outputs": [],
   "source": [
    "# import shutil\n",
    "import os\n",
    "dir = '/ssd2/lz/rgbd_benchmark/all_benchmark/results/transt_prompt'\n",
    "seq_list = []\n",
    "with open(os.path.join('/ssd3/lz/MM2022/dataset/depthtrack', \"list.txt\") ,'r') as f:\n",
    "    value = f.readlines()\n",
    "    for val in value:\n",
    "        seq_list.append(val.split(\"\\n\")[0])\n",
    "seq_list.sort()\n",
    "for seq in seq_list:\n",
    "    pre_file = os.path.join(dir,'{}.txt'.format(seq))\n",
    "    newprefile = os.path.join(dir, \"{}_001.txt\".format(seq))\n",
    "    os.rename(pre_file, newprefile)\n",
    "    time_file = os.path.join(dir, '{}_time.txt'.format(seq))\n",
    "    newtimefile = os.path.join(dir, '{}_001_time.value'.format(seq))\n",
    "    os.rename(time_file, newtimefile)"
   ]
  },
  {
   "cell_type": "markdown",
   "metadata": {},
   "source": [
    "# Event grabcut"
   ]
  },
  {
   "cell_type": "code",
   "execution_count": 12,
   "metadata": {},
   "outputs": [
    {
     "name": "stdout",
     "output_type": "stream",
     "text": [
      "True\n"
     ]
    },
    {
     "data": {
      "text/plain": [
       "True"
      ]
     },
     "execution_count": 12,
     "metadata": {},
     "output_type": "execute_result"
    }
   ],
   "source": [
    "import os\n",
    "import cv2\n",
    "import numpy as np\n",
    "\n",
    "event_image = \"/ssd2/lz/MM2022/dataset/event/visevent/00141_tank_outdoor2/event_imgs/00000003.png\"\n",
    "color_image = \"/ssd2/lz/MM2022/dataset/event/visevent/00141_tank_outdoor2/color/00000003.png\"\n",
    "print(os.path.exists(event_image))\n",
    "event = cv2.imread(event_image)\n",
    "rows, cols, channels = event.shape\n",
    "\n",
    "\n",
    "event2gray = cv2.cvtColor(event, cv2.COLOR_BGR2GRAY)\n",
    "\n",
    "ret, mask = cv2.threshold(event2gray, 175, 255, cv2.THRESH_BINARY)\n",
    "\n",
    "# newimage = np.zeros([event.shape[0], event.shape[1], 3], np.uint8)\n",
    "# newimage[:] = [255,255,255]\n",
    "newimage= cv2.imread(color_image)\n",
    "roi = newimage[0:rows, 0:cols]\n",
    "mask_inv = cv2.bitwise_not(mask)\n",
    "newimage_bg = cv2.bitwise_and(roi, roi, mask = mask)\n",
    "img2_fg = cv2.bitwise_and(event, event, mask = mask_inv)\n",
    "\n",
    "dst = cv2.add(newimage_bg, img2_fg)\n",
    "\n",
    "\n",
    "# newimage = cv2.add(newimage, )\n",
    "cv2.imwrite('./white.png',newimage)\n",
    "cv2.imwrite(\"./gray3.png\",event)\n",
    "cv2.imwrite(\"./grab.png\", dst)"
   ]
  }
 ],
 "metadata": {
  "kernelspec": {
   "display_name": "Python 3.8.13 ('pytracking')",
   "language": "python",
   "name": "python3"
  },
  "language_info": {
   "codemirror_mode": {
    "name": "ipython",
    "version": 3
   },
   "file_extension": ".py",
   "mimetype": "text/x-python",
   "name": "python",
   "nbconvert_exporter": "python",
   "pygments_lexer": "ipython3",
   "version": "3.8.13"
  },
  "orig_nbformat": 4,
  "vscode": {
   "interpreter": {
    "hash": "0397a5c77d7ee93158e956f225d9bbcf98e498c99f97427e001b3023d92c50d1"
   }
  }
 },
 "nbformat": 4,
 "nbformat_minor": 2
}
