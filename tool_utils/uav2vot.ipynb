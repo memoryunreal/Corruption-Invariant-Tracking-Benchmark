{
 "cells": [
  {
   "cell_type": "code",
   "execution_count": 4,
   "metadata": {},
   "outputs": [],
   "source": [
    "import os\n",
    "dataset = '/home/CVPR2023/Corruption-Invariant-Tracking-Benchmark/workspace/uav-test/sequences'\n",
    "sequence = []\n",
    "try:\n",
    "    with open(os.path.join(dataset, 'list.txt'), 'r') as f:\n",
    "        value = f.readlines()\n",
    "    for seq in value:\n",
    "        sequence.append(seq.split(\"\\n\")[0])\n",
    "    sequence.sort()\n",
    "except:    \n",
    "    sequence =  os.listdir(dataset)\n",
    "    sequence.sort()\n",
    "    with open(os.path.join(dataset, \"list.txt\"), 'w') as f:\n",
    "        for seq in sequence:\n",
    "            f.writelines(seq + \"\\n\")"
   ]
  },
  {
   "cell_type": "code",
   "execution_count": 2,
   "metadata": {},
   "outputs": [],
   "source": [
    "\n",
    "for index,seq in enumerate(sequence):\n",
    "    visimg = os.path.join(dataset, seq, \"depth\")\n",
    "    colorimage = os.path.join(dataset, seq, \"color\")\n",
    "    # os.rename(visimg, colorimage) \n",
    "    imageslist = os.listdir(colorimage)\n",
    "    imageslist.sort()\n",
    "    infraredlist = os.listdir(visimg)\n",
    "    infraredlist.sort()\n",
    "    assert len(imageslist) == len(infraredlist)\n",
    "    imgsuffix = imageslist[0].split(\".\")[1]\n",
    "    infraredsuffix = infraredlist[0].split(\".\")[1] \n",
    "    for i in range(len(imageslist)):\n",
    "        colorname = os.path.join(colorimage, imageslist[i])\n",
    "        sortname = os.path.join(colorimage, \"%08d.%s\" % (i+1, imgsuffix))\n",
    "        os.rename(colorname, sortname)\n",
    "\n",
    "    for i in range(len(infraredlist)):\n",
    "        visiblename = os.path.join(visimg, infraredlist[i])\n",
    "        sortname = os.path.join(visimg, \"%08d.%s\" % (i+1, infraredsuffix))\n",
    "        os.rename(visiblename, sortname)\n",
    "\n",
    "    with open(os.path.join(dataset, seq, \"sequence\"), 'w') as f:\n",
    "        line1 = 'channels.color=color/%08d.' + imgsuffix\n",
    "        line2 = \"channels.depth=depth/%08d.\" + infraredsuffix                                                                                                                                                                          \n",
    "        line3 = \"format=default\"                                                                                                                                                                          \n",
    "        line4 = \"fps=30\"                                                                                                                                                                            \n",
    "        line5 = \"name={}\".format(seq)\n",
    "        f.writelines(line1 + '\\n')\n",
    "        f.writelines(line2 + '\\n')\n",
    "        f.writelines(line3 + '\\n')\n",
    "        f.writelines(line4 + '\\n')\n",
    "        f.writelines(line5 + '\\n')\n"
   ]
  },
  {
   "cell_type": "code",
   "execution_count": null,
   "metadata": {},
   "outputs": [],
   "source": [
    "\n",
    "for index,seq in enumerate(sequence):\n",
    "    visimg = os.path.join(dataset, seq, \"depth\")\n",
    "    colorimage = os.path.join(dataset, seq, \"color\")\n",
    "    # os.rename(visimg, colorimage) \n",
    "    imageslist = os.listdir(colorimage)\n",
    "    imageslist.sort()\n",
    "    infraredlist = os.listdir(visimg)\n",
    "    infraredlist.sort()\n",
    "    assert len(imageslist) == len(infraredlist)\n",
    "    imgsuffix = imageslist[0].split(\".\")[1]\n",
    "    infraredsuffix = infraredlist[0].split(\".\")[1] \n",
    "    for i in range(len(imageslist)):\n",
    "        colorname = os.path.join(colorimage, imageslist[i])\n",
    "        sortname = os.path.join(colorimage, \"%08d.%s\" % (i+1, imgsuffix))\n",
    "        os.rename(colorname, sortname)\n",
    "\n",
    "    for i in range(len(infraredlist)):\n",
    "        visiblename = os.path.join(visimg, infraredlist[i])\n",
    "        sortname = os.path.join(visimg, \"%08d.%s\" % (i+1, infraredsuffix))\n",
    "        os.rename(visiblename, sortname)\n",
    "\n",
    "    with open(os.path.join(dataset, seq, \"sequence\"), 'w') as f:\n",
    "        line1 = 'channels.color=color/%08d.' + imgsuffix\n",
    "        line2 = \"channels.depth=depth/%08d.\" + infraredsuffix                                                                                                                                                                          \n",
    "        line3 = \"format=default\"                                                                                                                                                                          \n",
    "        line4 = \"fps=30\"                                                                                                                                                                            \n",
    "        line5 = \"name={}\".format(seq)\n",
    "        f.writelines(line1 + '\\n')\n",
    "        f.writelines(line2 + '\\n')\n",
    "        f.writelines(line3 + '\\n')\n",
    "        f.writelines(line4 + '\\n')\n",
    "        f.writelines(line5 + '\\n')"
   ]
  }
 ],
 "metadata": {
  "kernelspec": {
   "display_name": "Python 3.8.13 ('pytracking')",
   "language": "python",
   "name": "python3"
  },
  "language_info": {
   "codemirror_mode": {
    "name": "ipython",
    "version": 3
   },
   "file_extension": ".py",
   "mimetype": "text/x-python",
   "name": "python",
   "nbconvert_exporter": "python",
   "pygments_lexer": "ipython3",
   "version": "3.8.13"
  },
  "orig_nbformat": 4,
  "vscode": {
   "interpreter": {
    "hash": "0397a5c77d7ee93158e956f225d9bbcf98e498c99f97427e001b3023d92c50d1"
   }
  }
 },
 "nbformat": 4,
 "nbformat_minor": 2
}
